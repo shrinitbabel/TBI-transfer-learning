{
 "cells": [
  {
   "cell_type": "markdown",
   "id": "ab54073a",
   "metadata": {},
   "source": [
    "# Trauma Transfer Learning Experiment"
   ]
  },
  {
   "cell_type": "markdown",
   "id": "d2a5df50",
   "metadata": {},
   "source": [
    "This notebook compares baseline survival models and a transfer learning approach using Indian and Jordan trauma datasets."
   ]
  },
  {
   "cell_type": "code",
   "execution_count": null,
   "id": "f35603a8",
   "metadata": {},
   "outputs": [],
   "source": [
    "!pip -q install pandas numpy matplotlib seaborn scikit-learn lifelines scikit-survival"
   ]
  },
  {
   "cell_type": "code",
   "execution_count": null,
   "id": "93393ef1",
   "metadata": {},
   "outputs": [],
   "source": [
    "import pandas as pd\n",
    "import numpy as np\n",
    "import matplotlib.pyplot as plt\n",
    "import seaborn as sns\n",
    "from lifelines import CoxPHFitter, KaplanMeierFitter\n",
    "from lifelines.utils import concordance_index\n",
    "from sksurv.ensemble import GradientBoostingSurvivalAnalysis\n",
    "\n",
    "sns.set(style='whitegrid')\n"
   ]
  },
  {
   "cell_type": "markdown",
   "id": "7c8513b4",
   "metadata": {},
   "source": [
    "## Load datasets"
   ]
  },
  {
   "cell_type": "code",
   "execution_count": null,
   "id": "0565143e",
   "metadata": {},
   "outputs": [],
   "source": [
    "india_file = 'trauma_india_brain_injury.csv'\n",
    "jordan_file = 'traumatic_brain_injury.csv'\n",
    "\n",
    "cols_india = ['age','sex','sbp_1','hr_1','rr_1','gcs_t_1','doa','toa','dodd','todd','died']\n",
    "india = pd.read_csv(india_file, usecols=cols_india)\n",
    "\n",
    "cols_jordan = ['Gender','age of diagnosis','ER-HR','ER-RR','ER-systolic BP','GCS in ER','length of stay in the hospital (in days)','outcome']\n",
    "jordan = pd.read_csv(jordan_file, usecols=cols_jordan)\n"
   ]
  },
  {
   "cell_type": "markdown",
   "id": "396c16f4",
   "metadata": {},
   "source": [
    "## Feature engineering"
   ]
  },
  {
   "cell_type": "code",
   "execution_count": null,
   "id": "436e8f6f",
   "metadata": {},
   "outputs": [],
   "source": [
    "def parse_datetime(date_col, time_col):\n",
    "    dt = pd.to_datetime(date_col + ' ' + time_col, errors='coerce')\n",
    "    return dt\n",
    "\n",
    "india['admit_time'] = parse_datetime(india['doa'], india['toa'])\n",
    "india['discharge_time'] = parse_datetime(india['dodd'], india['todd'])\n",
    "india['los'] = (india['discharge_time'] - india['admit_time']).dt.total_seconds() / 3600\n",
    "india['los'] = india['los'].fillna(0)\n",
    "india['event'] = (india['died'] == 'Yes').astype(int)\n",
    "\n",
    "jordan['los'] = pd.to_numeric(jordan['length of stay in the hospital (in days)'], errors='coerce')\n",
    "jordan['event'] = (jordan['outcome'] == 'died').astype(int)\n",
    "\n",
    "india['sex'] = india['sex'].map({'Male':1,'Female':0})\n",
    "jordan['Gender'] = jordan['Gender'].map({'Male':1,'Female':0})\n",
    "\n",
    "features_india = india[['age','sex','sbp_1','hr_1','rr_1','gcs_t_1']].copy()\n",
    "features_jordan = jordan[['age of diagnosis','Gender','ER-HR','ER-RR','ER-systolic BP','GCS in ER']].copy()\n",
    "features_jordan.columns = ['age','sex','hr','rr','sbp','gcs']\n",
    "features_india.columns = ['age','sex','sbp','hr','rr','gcs']\n"
   ]
  },
  {
   "cell_type": "markdown",
   "id": "b4e851ad",
   "metadata": {},
   "source": [
    "## Exploratory analysis"
   ]
  },
  {
   "cell_type": "code",
   "execution_count": null,
   "id": "ea44137d",
   "metadata": {},
   "outputs": [],
   "source": [
    "print('India rows:', len(india))\n",
    "print('Jordan rows:', len(jordan))\n",
    "\n",
    "print('\n",
    "Indian LOS summary (hours):')\n",
    "print(india['los'].describe())\n",
    "print('\n",
    "Jordan LOS summary (days):')\n",
    "print(jordan['los'].describe())\n",
    "\n",
    "fig, axes = plt.subplots(1,2, figsize=(12,4))\n",
    "axes[0].hist(india['los']/24, bins=30, color='skyblue')\n",
    "axes[0].set_title('India LOS (days)')\n",
    "axes[1].hist(jordan['los'], bins=15, color='salmon')\n",
    "axes[1].set_title('Jordan LOS (days)')\n",
    "plt.show()\n"
   ]
  },
  {
   "cell_type": "code",
   "execution_count": null,
   "id": "7fdfc4e0",
   "metadata": {},
   "outputs": [],
   "source": [
    "kmf = KaplanMeierFitter()\n",
    "kmf.fit(durations=india['los']/24, event_observed=india['event'], label='India')\n",
    "ax = kmf.plot()\n",
    "kmf.fit(durations=jordan['los'], event_observed=jordan['event'], label='Jordan')\n",
    "kmf.plot(ax=ax)\n",
    "ax.set_xlabel('Time (days)')\n",
    "ax.set_ylabel('Survival probability')\n",
    "plt.show()\n"
   ]
  },
  {
   "cell_type": "markdown",
   "id": "db29141b",
   "metadata": {},
   "source": [
    "## Baseline Cox model on Jordan data"
   ]
  },
  {
   "cell_type": "code",
   "execution_count": null,
   "id": "8c7d8e41",
   "metadata": {},
   "outputs": [],
   "source": [
    "baseline_data = features_jordan.copy()\n",
    "baseline_data['duration'] = jordan['los']\n",
    "baseline_data['event'] = jordan['event']\n",
    "\n",
    "cph = CoxPHFitter()\n",
    "cph.fit(baseline_data, duration_col='duration', event_col='event')\n",
    "print(cph.summary)\n",
    "print('Baseline C-index:', concordance_index(baseline_data['duration'], -cph.predict_partial_hazard(baseline_data), baseline_data['event']))\n"
   ]
  },
  {
   "cell_type": "markdown",
   "id": "c1b162e3",
   "metadata": {},
   "source": [
    "## Transfer learning with gradient boosting"
   ]
  },
  {
   "cell_type": "code",
   "execution_count": null,
   "id": "42210192",
   "metadata": {},
   "outputs": [],
   "source": [
    "X_india = features_india.fillna(features_india.median())\n",
    "y_india = np.array([(bool(e), t) for e,t in zip(india['event'], india['los']/24)], dtype=[('event', bool), ('time', float)])\n",
    "\n",
    "X_jordan = features_jordan.fillna(features_jordan.median())\n",
    "y_jordan = np.array([(bool(e), t) for e,t in zip(jordan['event'], jordan['los'])], dtype=[('event', bool), ('time', float)])\n",
    "\n",
    "# baseline without transfer\n",
    "gb_baseline = GradientBoostingSurvivalAnalysis(random_state=0)\n",
    "gb_baseline.fit(X_jordan, y_jordan)\n",
    "base_cindex = gb_baseline.score(X_jordan, y_jordan)\n",
    "print('Baseline gradient boosting C-index:', base_cindex)\n",
    "\n",
    "# pretrain on India then fine-tune on Jordan\n",
    "gb_transfer = GradientBoostingSurvivalAnalysis(random_state=0, n_estimators=100, warm_start=True)\n",
    "gb_transfer.fit(X_india, y_india)\n",
    "# add more estimators for fine-tuning\n",
    "gb_transfer.set_params(n_estimators=150)\n",
    "gb_transfer.fit(X_jordan, y_jordan)\n",
    "transfer_cindex = gb_transfer.score(X_jordan, y_jordan)\n",
    "print('Transfer learning C-index:', transfer_cindex)\n"
   ]
  },
  {
   "cell_type": "code",
   "execution_count": null,
   "id": "611553e8",
   "metadata": {},
   "outputs": [],
   "source": [
    "plt.step(*gb_transfer.predict_survival_function(X_jordan.iloc[:5]).T)\n",
    "plt.xlabel('Time (days)')\n",
    "plt.ylabel('Survival probability')\n",
    "plt.title('Example predicted curves (Jordan)')\n",
    "plt.show()\n"
   ]
  }
 ],
 "metadata": {
  "language_info": {
   "name": "python"
  }
 },
 "nbformat": 4,
 "nbformat_minor": 5
}
